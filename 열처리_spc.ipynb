{
  "cells": [
    {
      "cell_type": "markdown",
      "metadata": {
        "id": "view-in-github",
        "colab_type": "text"
      },
      "source": [
        "<a href=\"https://colab.research.google.com/github/beom2pm/ds_edu_springFramework/blob/master/%EC%97%B4%EC%B2%98%EB%A6%AC_spc.ipynb\" target=\"_parent\"><img src=\"https://colab.research.google.com/assets/colab-badge.svg\" alt=\"Open In Colab\"/></a>"
      ]
    },
    {
      "cell_type": "markdown",
      "source": [
        "# SPC + 시계열\n"
      ],
      "metadata": {
        "id": "LkC-3W-OOxOD"
      }
    },
    {
      "cell_type": "code",
      "source": [
        "import pandas as pd\n",
        "\n",
        "# 공정 raw 데이터\n",
        "raw_df = pd.read_csv('raw_total_data.csv', encoding='utf-8', parse_dates=['TAG_MIN'])\n",
        "\n",
        "# 불량 정보 라벨 데이터\n",
        "label_df = pd.read_excel('label.xlsx')"
      ],
      "metadata": {
        "id": "tLnegRS9O1Tj"
      },
      "execution_count": 1,
      "outputs": []
    },
    {
      "cell_type": "markdown",
      "source": [
        "##결측치 제거"
      ],
      "metadata": {
        "id": "NizodRaKQMRa"
      }
    },
    {
      "cell_type": "code",
      "source": [
        "# 필요없는 컬럼 제거 (빈 열이 있을 경우)\n",
        "raw_df = raw_df.dropna(axis=1, how='all')\n",
        "\n",
        "# 시간순 정렬\n",
        "raw_df = raw_df.sort_values('TAG_MIN')\n",
        "\n",
        "# 배정번호 기준으로 그룹핑\n",
        "raw_df['배정번호'] = raw_df['배정번호'].astype(str)\n",
        "label_df['배정번호'] = label_df['배정번호'].astype(str)"
      ],
      "metadata": {
        "id": "m_-k22qtQILs"
      },
      "execution_count": 2,
      "outputs": []
    }
  ],
  "metadata": {
    "colab": {
      "name": "Colab 시작하기",
      "provenance": [],
      "include_colab_link": true
    },
    "kernelspec": {
      "display_name": "Python 3",
      "name": "python3"
    }
  },
  "nbformat": 4,
  "nbformat_minor": 0
}